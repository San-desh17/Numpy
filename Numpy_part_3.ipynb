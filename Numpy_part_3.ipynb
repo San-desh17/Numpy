{
  "nbformat": 4,
  "nbformat_minor": 0,
  "metadata": {
    "colab": {
      "provenance": [],
      "gpuType": "V28",
      "authorship_tag": "ABX9TyObKh5y3L4JNoE+yFLCd69a",
      "include_colab_link": true
    },
    "kernelspec": {
      "name": "python3",
      "display_name": "Python 3"
    },
    "language_info": {
      "name": "python"
    },
    "accelerator": "TPU"
  },
  "cells": [
    {
      "cell_type": "markdown",
      "metadata": {
        "id": "view-in-github",
        "colab_type": "text"
      },
      "source": [
        "<a href=\"https://colab.research.google.com/github/San-desh17/Numpy/blob/numpy/Numpy_part_3.ipynb\" target=\"_parent\"><img src=\"https://colab.research.google.com/assets/colab-badge.svg\" alt=\"Open In Colab\"/></a>"
      ]
    },
    {
      "cell_type": "code",
      "execution_count": 1,
      "metadata": {
        "id": "NQnotjPPVd0r"
      },
      "outputs": [],
      "source": [
        "import numpy as np"
      ]
    },
    {
      "cell_type": "markdown",
      "source": [
        "#### np.sort()"
      ],
      "metadata": {
        "id": "UeKZag0CjycT"
      }
    },
    {
      "cell_type": "code",
      "source": [
        "# python ko sort le list dinxa\n",
        "# numpy ko sort le numpy array dinxa"
      ],
      "metadata": {
        "id": "ywbMhnNhiv4m"
      },
      "execution_count": 2,
      "outputs": []
    },
    {
      "cell_type": "code",
      "source": [
        "a = np.random.randint(1,20,20)\n",
        "a"
      ],
      "metadata": {
        "colab": {
          "base_uri": "https://localhost:8080/"
        },
        "id": "Bf1rQPYii6KX",
        "outputId": "448ef41b-8a5d-4b62-f486-08d5af294fdb"
      },
      "execution_count": 7,
      "outputs": [
        {
          "output_type": "execute_result",
          "data": {
            "text/plain": [
              "array([ 5, 15, 10,  8,  6,  9, 15,  3, 13,  2,  5, 17, 18, 15,  6,  3,  1,\n",
              "        7,  1,  8])"
            ]
          },
          "metadata": {},
          "execution_count": 7
        }
      ]
    },
    {
      "cell_type": "code",
      "source": [
        "np.sort(a)"
      ],
      "metadata": {
        "colab": {
          "base_uri": "https://localhost:8080/"
        },
        "id": "Uk8Kl0tUjAMf",
        "outputId": "aba74620-d0d2-4ab7-80ab-ecdf492004e3"
      },
      "execution_count": 8,
      "outputs": [
        {
          "output_type": "execute_result",
          "data": {
            "text/plain": [
              "array([ 1,  1,  2,  3,  3,  5,  5,  6,  6,  7,  8,  8,  9, 10, 13, 15, 15,\n",
              "       15, 17, 18])"
            ]
          },
          "metadata": {},
          "execution_count": 8
        }
      ]
    },
    {
      "cell_type": "code",
      "source": [
        "np.sort(a)[::-1]"
      ],
      "metadata": {
        "colab": {
          "base_uri": "https://localhost:8080/"
        },
        "id": "kFeml58sjrwC",
        "outputId": "53684fd6-9ba5-44d5-c966-b61511a3697c"
      },
      "execution_count": 13,
      "outputs": [
        {
          "output_type": "execute_result",
          "data": {
            "text/plain": [
              "array([18, 17, 15, 15, 15, 13, 10,  9,  8,  8,  7,  6,  6,  5,  5,  3,  3,\n",
              "        2,  1,  1])"
            ]
          },
          "metadata": {},
          "execution_count": 13
        }
      ]
    },
    {
      "cell_type": "code",
      "source": [
        "b = np.random.randint(1,20,20).reshape(4,5)\n",
        "b"
      ],
      "metadata": {
        "colab": {
          "base_uri": "https://localhost:8080/"
        },
        "id": "2EbUYgqHjQvx",
        "outputId": "e9ee4548-b971-40a3-92a2-3767bfb0cc30"
      },
      "execution_count": 9,
      "outputs": [
        {
          "output_type": "execute_result",
          "data": {
            "text/plain": [
              "array([[ 1,  3,  4,  9, 19],\n",
              "       [ 2, 17, 13,  6,  2],\n",
              "       [14, 18, 18, 15, 17],\n",
              "       [ 5,  7,  9,  8,  2]])"
            ]
          },
          "metadata": {},
          "execution_count": 9
        }
      ]
    },
    {
      "cell_type": "code",
      "source": [
        "np.sort(b,axis=0)"
      ],
      "metadata": {
        "colab": {
          "base_uri": "https://localhost:8080/"
        },
        "id": "0PZI_8v5jZfp",
        "outputId": "377f02e5-97e4-489a-d11e-a2363139dd7d"
      },
      "execution_count": 11,
      "outputs": [
        {
          "output_type": "execute_result",
          "data": {
            "text/plain": [
              "array([[ 1,  3,  4,  6,  2],\n",
              "       [ 2,  7,  9,  8,  2],\n",
              "       [ 5, 17, 13,  9, 17],\n",
              "       [14, 18, 18, 15, 19]])"
            ]
          },
          "metadata": {},
          "execution_count": 11
        }
      ]
    },
    {
      "cell_type": "markdown",
      "source": [
        "#### np.append()"
      ],
      "metadata": {
        "id": "ioRwPJf7j1Aa"
      }
    },
    {
      "cell_type": "code",
      "source": [
        "b"
      ],
      "metadata": {
        "colab": {
          "base_uri": "https://localhost:8080/"
        },
        "id": "8RsAnx-8jbWD",
        "outputId": "70cc9324-8b76-4ebe-a6f5-056eef4fe858"
      },
      "execution_count": 14,
      "outputs": [
        {
          "output_type": "execute_result",
          "data": {
            "text/plain": [
              "array([[ 1,  3,  4,  9, 19],\n",
              "       [ 2, 17, 13,  6,  2],\n",
              "       [14, 18, 18, 15, 17],\n",
              "       [ 5,  7,  9,  8,  2]])"
            ]
          },
          "metadata": {},
          "execution_count": 14
        }
      ]
    },
    {
      "cell_type": "code",
      "source": [
        "np.append(b,np.random.randint(1,20,5).reshape(1,5),axis=0)"
      ],
      "metadata": {
        "colab": {
          "base_uri": "https://localhost:8080/"
        },
        "id": "4898gluxkQQP",
        "outputId": "fc8b4213-6677-4d71-a133-dfc16e1754a6"
      },
      "execution_count": 16,
      "outputs": [
        {
          "output_type": "execute_result",
          "data": {
            "text/plain": [
              "array([[ 1,  3,  4,  9, 19],\n",
              "       [ 2, 17, 13,  6,  2],\n",
              "       [14, 18, 18, 15, 17],\n",
              "       [ 5,  7,  9,  8,  2],\n",
              "       [ 6,  7, 15,  9, 12]])"
            ]
          },
          "metadata": {},
          "execution_count": 16
        }
      ]
    },
    {
      "cell_type": "markdown",
      "source": [
        "#### np.concatenate()"
      ],
      "metadata": {
        "id": "Lo5ufSg8j4MD"
      }
    },
    {
      "cell_type": "code",
      "source": [
        "c = np.arange(6).reshape(2,3)\n",
        "c\n",
        "d= np.arange(6,12).reshape(2,3)\n",
        "d"
      ],
      "metadata": {
        "colab": {
          "base_uri": "https://localhost:8080/"
        },
        "id": "BLbxCchxkj13",
        "outputId": "59f6b6e4-9e08-4a81-8a1b-718c567a3a33"
      },
      "execution_count": 17,
      "outputs": [
        {
          "output_type": "execute_result",
          "data": {
            "text/plain": [
              "array([[ 6,  7,  8],\n",
              "       [ 9, 10, 11]])"
            ]
          },
          "metadata": {},
          "execution_count": 17
        }
      ]
    },
    {
      "cell_type": "code",
      "source": [
        "np.concatenate((c,d),axis=0)"
      ],
      "metadata": {
        "colab": {
          "base_uri": "https://localhost:8080/"
        },
        "id": "z8d5bg1cj6SC",
        "outputId": "fb89adf3-bccd-4f9f-c0f1-51e1c8ebd909"
      },
      "execution_count": 18,
      "outputs": [
        {
          "output_type": "execute_result",
          "data": {
            "text/plain": [
              "array([[ 0,  1,  2],\n",
              "       [ 3,  4,  5],\n",
              "       [ 6,  7,  8],\n",
              "       [ 9, 10, 11]])"
            ]
          },
          "metadata": {},
          "execution_count": 18
        }
      ]
    },
    {
      "cell_type": "markdown",
      "source": [
        "#### np.unique()"
      ],
      "metadata": {
        "id": "gzliEM8nk1pt"
      }
    },
    {
      "cell_type": "code",
      "source": [
        "e = np.random.randint(1,10,20)\n",
        "e"
      ],
      "metadata": {
        "colab": {
          "base_uri": "https://localhost:8080/"
        },
        "id": "AgqlXbY9ksiD",
        "outputId": "88e05a0c-5e76-48f7-c29d-85b0559a0f0f"
      },
      "execution_count": 19,
      "outputs": [
        {
          "output_type": "execute_result",
          "data": {
            "text/plain": [
              "array([1, 6, 2, 7, 7, 5, 9, 3, 9, 3, 7, 6, 2, 5, 8, 5, 1, 7, 8, 7])"
            ]
          },
          "metadata": {},
          "execution_count": 19
        }
      ]
    },
    {
      "cell_type": "code",
      "source": [
        "np.unique(e)"
      ],
      "metadata": {
        "colab": {
          "base_uri": "https://localhost:8080/"
        },
        "id": "SS8H6GW-k7zt",
        "outputId": "99bb2b66-db14-4e5e-c654-d882e98658c9"
      },
      "execution_count": 20,
      "outputs": [
        {
          "output_type": "execute_result",
          "data": {
            "text/plain": [
              "array([1, 2, 3, 5, 6, 7, 8, 9])"
            ]
          },
          "metadata": {},
          "execution_count": 20
        }
      ]
    },
    {
      "cell_type": "markdown",
      "source": [
        "#### np.expand_dims"
      ],
      "metadata": {
        "id": "F9cEWHHxlw52"
      }
    },
    {
      "cell_type": "code",
      "source": [
        "a"
      ],
      "metadata": {
        "colab": {
          "base_uri": "https://localhost:8080/"
        },
        "id": "qqmqIY6uk9Lp",
        "outputId": "038ca27a-6551-4d49-def8-1ef3115b196c"
      },
      "execution_count": 21,
      "outputs": [
        {
          "output_type": "execute_result",
          "data": {
            "text/plain": [
              "array([ 5, 15, 10,  8,  6,  9, 15,  3, 13,  2,  5, 17, 18, 15,  6,  3,  1,\n",
              "        7,  1,  8])"
            ]
          },
          "metadata": {},
          "execution_count": 21
        }
      ]
    },
    {
      "cell_type": "code",
      "source": [
        "np.expand_dims(a,axis=0)"
      ],
      "metadata": {
        "colab": {
          "base_uri": "https://localhost:8080/"
        },
        "id": "_FJdOiUTmL7r",
        "outputId": "0c45de65-0831-415e-fe69-22097ed8e35d"
      },
      "execution_count": 22,
      "outputs": [
        {
          "output_type": "execute_result",
          "data": {
            "text/plain": [
              "array([[ 5, 15, 10,  8,  6,  9, 15,  3, 13,  2,  5, 17, 18, 15,  6,  3,\n",
              "         1,  7,  1,  8]])"
            ]
          },
          "metadata": {},
          "execution_count": 22
        }
      ]
    },
    {
      "cell_type": "markdown",
      "source": [
        "#### np.where()"
      ],
      "metadata": {
        "id": "gxZCra_Pl5Fw"
      }
    },
    {
      "cell_type": "code",
      "source": [
        "a"
      ],
      "metadata": {
        "colab": {
          "base_uri": "https://localhost:8080/"
        },
        "id": "0RLv11xZqvuf",
        "outputId": "f0519d06-faeb-46a6-b308-dc7ca7df91b1"
      },
      "execution_count": 23,
      "outputs": [
        {
          "output_type": "execute_result",
          "data": {
            "text/plain": [
              "array([ 5, 15, 10,  8,  6,  9, 15,  3, 13,  2,  5, 17, 18, 15,  6,  3,  1,\n",
              "        7,  1,  8])"
            ]
          },
          "metadata": {},
          "execution_count": 23
        }
      ]
    },
    {
      "cell_type": "code",
      "source": [
        "np.where(a>10) # return index position"
      ],
      "metadata": {
        "colab": {
          "base_uri": "https://localhost:8080/"
        },
        "id": "oQgAk6Z6l7PC",
        "outputId": "37f95379-dbb8-45f6-d2ec-e403a974511a"
      },
      "execution_count": 24,
      "outputs": [
        {
          "output_type": "execute_result",
          "data": {
            "text/plain": [
              "(array([ 1,  6,  8, 11, 12, 13]),)"
            ]
          },
          "metadata": {},
          "execution_count": 24
        }
      ]
    },
    {
      "cell_type": "code",
      "source": [
        "# np.where(condition, True, false)\n",
        "np.where(a>10,0,a)"
      ],
      "metadata": {
        "colab": {
          "base_uri": "https://localhost:8080/"
        },
        "id": "riQXsYBFqztI",
        "outputId": "644e2f27-c5b8-45d8-e918-26d81b315e61"
      },
      "execution_count": 25,
      "outputs": [
        {
          "output_type": "execute_result",
          "data": {
            "text/plain": [
              "array([ 5,  0, 10,  8,  6,  9,  0,  3,  0,  2,  5,  0,  0,  0,  6,  3,  1,\n",
              "        7,  1,  8])"
            ]
          },
          "metadata": {},
          "execution_count": 25
        }
      ]
    },
    {
      "cell_type": "markdown",
      "source": [
        "#### np.argmax"
      ],
      "metadata": {
        "id": "oYmFipKRrNGV"
      }
    },
    {
      "cell_type": "code",
      "source": [
        "np.argmax(a) # index position"
      ],
      "metadata": {
        "colab": {
          "base_uri": "https://localhost:8080/"
        },
        "id": "KrFfH-WArHjD",
        "outputId": "da65bcb3-ede6-440a-e3c8-9081a974e0b0"
      },
      "execution_count": 26,
      "outputs": [
        {
          "output_type": "execute_result",
          "data": {
            "text/plain": [
              "12"
            ]
          },
          "metadata": {},
          "execution_count": 26
        }
      ]
    },
    {
      "cell_type": "markdown",
      "source": [
        "#### np.argmin"
      ],
      "metadata": {
        "id": "ux-C4AN8rPaa"
      }
    },
    {
      "cell_type": "code",
      "source": [
        "np.argmin(a)"
      ],
      "metadata": {
        "colab": {
          "base_uri": "https://localhost:8080/"
        },
        "id": "hwm4_oa0rSgp",
        "outputId": "44d0a323-9528-4df2-8a0a-887a89258179"
      },
      "execution_count": 27,
      "outputs": [
        {
          "output_type": "execute_result",
          "data": {
            "text/plain": [
              "16"
            ]
          },
          "metadata": {},
          "execution_count": 27
        }
      ]
    },
    {
      "cell_type": "markdown",
      "source": [
        "#### np.cumsum"
      ],
      "metadata": {
        "id": "YqK7Hv-6rTIW"
      }
    },
    {
      "cell_type": "code",
      "source": [
        "np.cumsum(a)"
      ],
      "metadata": {
        "colab": {
          "base_uri": "https://localhost:8080/"
        },
        "id": "kAgJfsgKrYnM",
        "outputId": "4c85956a-15b0-4146-b851-fc96cbc6ac17"
      },
      "execution_count": 28,
      "outputs": [
        {
          "output_type": "execute_result",
          "data": {
            "text/plain": [
              "array([  5,  20,  30,  38,  44,  53,  68,  71,  84,  86,  91, 108, 126,\n",
              "       141, 147, 150, 151, 158, 159, 167])"
            ]
          },
          "metadata": {},
          "execution_count": 28
        }
      ]
    },
    {
      "cell_type": "markdown",
      "source": [
        "#### np.cumprod()"
      ],
      "metadata": {
        "id": "np5Fc0Marmr-"
      }
    },
    {
      "cell_type": "code",
      "source": [
        "np.cumprod(a)"
      ],
      "metadata": {
        "colab": {
          "base_uri": "https://localhost:8080/"
        },
        "id": "GFmlB7iPrlN5",
        "outputId": "18bbc4bd-40d3-44bf-b725-58515766656b"
      },
      "execution_count": 29,
      "outputs": [
        {
          "output_type": "execute_result",
          "data": {
            "text/plain": [
              "array([               5,               75,              750,\n",
              "                   6000,            36000,           324000,\n",
              "                4860000,         14580000,        189540000,\n",
              "              379080000,       1895400000,      32221800000,\n",
              "           579992400000,    8699886000000,   52199316000000,\n",
              "        156597948000000,  156597948000000, 1096185636000000,\n",
              "       1096185636000000, 8769485088000000])"
            ]
          },
          "metadata": {},
          "execution_count": 29
        }
      ]
    },
    {
      "cell_type": "markdown",
      "source": [
        "#### np.percentile"
      ],
      "metadata": {
        "id": "KsgcV8Jnrw-2"
      }
    },
    {
      "cell_type": "code",
      "source": [
        "np.percentile(a,75)"
      ],
      "metadata": {
        "colab": {
          "base_uri": "https://localhost:8080/"
        },
        "id": "bdELAwHdrqlm",
        "outputId": "78032eeb-2a0e-4e28-ad02-66f70f8caa78"
      },
      "execution_count": 30,
      "outputs": [
        {
          "output_type": "execute_result",
          "data": {
            "text/plain": [
              "13.5"
            ]
          },
          "metadata": {},
          "execution_count": 30
        }
      ]
    },
    {
      "cell_type": "code",
      "source": [
        "np.percentile(a,100)"
      ],
      "metadata": {
        "colab": {
          "base_uri": "https://localhost:8080/"
        },
        "id": "tKGwBCjor2R1",
        "outputId": "70806cf6-df0d-4818-aa0d-0486e5342e4a"
      },
      "execution_count": 31,
      "outputs": [
        {
          "output_type": "execute_result",
          "data": {
            "text/plain": [
              "18.0"
            ]
          },
          "metadata": {},
          "execution_count": 31
        }
      ]
    },
    {
      "cell_type": "markdown",
      "source": [
        "#### np.histogram"
      ],
      "metadata": {
        "id": "N_XkDOX7sk-_"
      }
    },
    {
      "cell_type": "code",
      "source": [
        "np.histogram(a,bins=[0,5,10,15,20])"
      ],
      "metadata": {
        "colab": {
          "base_uri": "https://localhost:8080/"
        },
        "id": "OHfRQH1lr9rt",
        "outputId": "21a94cb6-90b8-4417-acb6-a96b7166001e"
      },
      "execution_count": 33,
      "outputs": [
        {
          "output_type": "execute_result",
          "data": {
            "text/plain": [
              "(array([5, 8, 2, 5]), array([ 0,  5, 10, 15, 20]))"
            ]
          },
          "metadata": {},
          "execution_count": 33
        }
      ]
    },
    {
      "cell_type": "markdown",
      "source": [
        "#### np.corrcoef()"
      ],
      "metadata": {
        "id": "GcHzFveUtCLB"
      }
    },
    {
      "cell_type": "code",
      "source": [
        "salary = np.array([20000,40000,25000,35000,60000])\n",
        "experience = np.array([1,3,2,4,2])\n",
        "\n",
        "np.corrcoef(salary,experience)"
      ],
      "metadata": {
        "colab": {
          "base_uri": "https://localhost:8080/"
        },
        "id": "YAvbTnqLsoxk",
        "outputId": "9c8de1a9-7e05-4a28-956f-5b01fa1457c0"
      },
      "execution_count": 34,
      "outputs": [
        {
          "output_type": "execute_result",
          "data": {
            "text/plain": [
              "array([[1.        , 0.25344572],\n",
              "       [0.25344572, 1.        ]])"
            ]
          },
          "metadata": {},
          "execution_count": 34
        }
      ]
    },
    {
      "cell_type": "markdown",
      "source": [
        "#### np.isin()"
      ],
      "metadata": {
        "id": "VLOrRpA7uWME"
      }
    },
    {
      "cell_type": "code",
      "source": [
        "a"
      ],
      "metadata": {
        "colab": {
          "base_uri": "https://localhost:8080/"
        },
        "id": "BCuplFhCuYQE",
        "outputId": "3a3a2b89-20d5-47d6-e261-1ed2edae8ff2"
      },
      "execution_count": 35,
      "outputs": [
        {
          "output_type": "execute_result",
          "data": {
            "text/plain": [
              "array([ 5, 15, 10,  8,  6,  9, 15,  3, 13,  2,  5, 17, 18, 15,  6,  3,  1,\n",
              "        7,  1,  8])"
            ]
          },
          "metadata": {},
          "execution_count": 35
        }
      ]
    },
    {
      "cell_type": "code",
      "source": [
        "a[np.isin(a,[10,15])]"
      ],
      "metadata": {
        "colab": {
          "base_uri": "https://localhost:8080/"
        },
        "id": "5S3NjBUSu8D3",
        "outputId": "4af7481a-1bfa-4ad0-b10d-89d996689a14"
      },
      "execution_count": 37,
      "outputs": [
        {
          "output_type": "execute_result",
          "data": {
            "text/plain": [
              "array([15, 10, 15, 15])"
            ]
          },
          "metadata": {},
          "execution_count": 37
        }
      ]
    },
    {
      "cell_type": "markdown",
      "source": [
        "#### np.flip()"
      ],
      "metadata": {
        "id": "pF8cBfJqvE7n"
      }
    },
    {
      "cell_type": "code",
      "source": [
        "np.flip(a)"
      ],
      "metadata": {
        "colab": {
          "base_uri": "https://localhost:8080/"
        },
        "id": "wYjZymSqu98S",
        "outputId": "620d547c-d497-460c-8b64-c99ea70274d2"
      },
      "execution_count": 38,
      "outputs": [
        {
          "output_type": "execute_result",
          "data": {
            "text/plain": [
              "array([ 8,  1,  7,  1,  3,  6, 15, 18, 17,  5,  2, 13,  3, 15,  9,  6,  8,\n",
              "       10, 15,  5])"
            ]
          },
          "metadata": {},
          "execution_count": 38
        }
      ]
    },
    {
      "cell_type": "code",
      "source": [
        "b"
      ],
      "metadata": {
        "colab": {
          "base_uri": "https://localhost:8080/"
        },
        "id": "6_rksn4vvVNy",
        "outputId": "fa0cddd7-ccaf-4a02-f130-3ca49432cd97"
      },
      "execution_count": 40,
      "outputs": [
        {
          "output_type": "execute_result",
          "data": {
            "text/plain": [
              "array([[ 1,  3,  4,  9, 19],\n",
              "       [ 2, 17, 13,  6,  2],\n",
              "       [14, 18, 18, 15, 17],\n",
              "       [ 5,  7,  9,  8,  2]])"
            ]
          },
          "metadata": {},
          "execution_count": 40
        }
      ]
    },
    {
      "cell_type": "code",
      "source": [
        "np.flip(b,axis=1)"
      ],
      "metadata": {
        "colab": {
          "base_uri": "https://localhost:8080/"
        },
        "id": "v9k0KMgevP79",
        "outputId": "81c5c789-8b11-405a-eb5a-ab11e06df35b"
      },
      "execution_count": 39,
      "outputs": [
        {
          "output_type": "execute_result",
          "data": {
            "text/plain": [
              "array([[19,  9,  4,  3,  1],\n",
              "       [ 2,  6, 13, 17,  2],\n",
              "       [17, 15, 18, 18, 14],\n",
              "       [ 2,  8,  9,  7,  5]])"
            ]
          },
          "metadata": {},
          "execution_count": 39
        }
      ]
    },
    {
      "cell_type": "markdown",
      "source": [
        "#### np.put()"
      ],
      "metadata": {
        "id": "bzhbOyTVvLlK"
      }
    },
    {
      "cell_type": "code",
      "source": [
        "np.put(a,[0,1],[100,200])\n",
        "a"
      ],
      "metadata": {
        "colab": {
          "base_uri": "https://localhost:8080/"
        },
        "id": "eiDvCkKFvJhg",
        "outputId": "f343f233-bf3c-4c52-88b7-be53b143edcb"
      },
      "execution_count": 41,
      "outputs": [
        {
          "output_type": "execute_result",
          "data": {
            "text/plain": [
              "array([100, 200,  10,   8,   6,   9,  15,   3,  13,   2,   5,  17,  18,\n",
              "        15,   6,   3,   1,   7,   1,   8])"
            ]
          },
          "metadata": {},
          "execution_count": 41
        }
      ]
    },
    {
      "cell_type": "markdown",
      "source": [
        "#### np.delete()"
      ],
      "metadata": {
        "id": "4mAmfTTZvvcC"
      }
    },
    {
      "cell_type": "code",
      "source": [
        "np.delete(a,0)"
      ],
      "metadata": {
        "colab": {
          "base_uri": "https://localhost:8080/"
        },
        "id": "LvAZCuo-vtm9",
        "outputId": "bdfe1312-09a9-4546-ce85-5cc4bd2ca0ea"
      },
      "execution_count": 42,
      "outputs": [
        {
          "output_type": "execute_result",
          "data": {
            "text/plain": [
              "array([200,  10,   8,   6,   9,  15,   3,  13,   2,   5,  17,  18,  15,\n",
              "         6,   3,   1,   7,   1,   8])"
            ]
          },
          "metadata": {},
          "execution_count": 42
        }
      ]
    },
    {
      "cell_type": "markdown",
      "source": [
        "#### Set functions"
      ],
      "metadata": {
        "id": "eJRn6y19whfd"
      }
    },
    {
      "cell_type": "code",
      "source": [
        "# np.union1d"
      ],
      "metadata": {
        "id": "cAmK0BgWwgCp"
      },
      "execution_count": 43,
      "outputs": []
    },
    {
      "cell_type": "code",
      "source": [
        "# np.intersect1d"
      ],
      "metadata": {
        "id": "SsrJX9qyyQpB"
      },
      "execution_count": 44,
      "outputs": []
    },
    {
      "cell_type": "code",
      "source": [
        "# np.setdiff1d"
      ],
      "metadata": {
        "id": "OZSrma1NyS4X"
      },
      "execution_count": 45,
      "outputs": []
    },
    {
      "cell_type": "code",
      "source": [
        "# np.setxor1d"
      ],
      "metadata": {
        "id": "RTsU-fp4yafE"
      },
      "execution_count": 46,
      "outputs": []
    },
    {
      "cell_type": "code",
      "source": [
        "# np.in1d"
      ],
      "metadata": {
        "id": "oalyoGjYycqx"
      },
      "execution_count": 47,
      "outputs": []
    },
    {
      "cell_type": "markdown",
      "source": [
        "#### np.clip()"
      ],
      "metadata": {
        "id": "iaHkgulTzAab"
      }
    },
    {
      "cell_type": "code",
      "source": [
        "np.clip(a,a_min=10,a_max=15)"
      ],
      "metadata": {
        "colab": {
          "base_uri": "https://localhost:8080/"
        },
        "id": "Tx-tH72cyenJ",
        "outputId": "cb314960-5b74-4ef9-d9d6-903779c386ea"
      },
      "execution_count": 48,
      "outputs": [
        {
          "output_type": "execute_result",
          "data": {
            "text/plain": [
              "array([15, 15, 10, 10, 10, 10, 15, 10, 13, 10, 10, 15, 15, 15, 10, 10, 10,\n",
              "       10, 10, 10])"
            ]
          },
          "metadata": {},
          "execution_count": 48
        }
      ]
    },
    {
      "cell_type": "code",
      "source": [
        "# np.swapaxes"
      ],
      "metadata": {
        "id": "XIEw_TbZzQka"
      },
      "execution_count": 49,
      "outputs": []
    },
    {
      "cell_type": "code",
      "source": [
        "# np. uniform"
      ],
      "metadata": {
        "id": "dLqz92W3zXE1"
      },
      "execution_count": 50,
      "outputs": []
    },
    {
      "cell_type": "code",
      "source": [
        "# np.tile"
      ],
      "metadata": {
        "id": "ADF43M7pzy06"
      },
      "execution_count": 51,
      "outputs": []
    },
    {
      "cell_type": "code",
      "source": [
        "# np.count_nonzero"
      ],
      "metadata": {
        "id": "ho3TMQVtz0g6"
      },
      "execution_count": 52,
      "outputs": []
    },
    {
      "cell_type": "code",
      "source": [
        "# np.repeat"
      ],
      "metadata": {
        "id": "45hPDSwSz2Oa"
      },
      "execution_count": 53,
      "outputs": []
    },
    {
      "cell_type": "code",
      "source": [],
      "metadata": {
        "id": "5mlwCwO7z7cT"
      },
      "execution_count": null,
      "outputs": []
    }
  ]
}